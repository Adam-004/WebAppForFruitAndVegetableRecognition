{
 "cells": [
  {
   "cell_type": "code",
   "execution_count": null,
   "metadata": {},
   "outputs": [],
   "source": [
    "#Install necessary packages\n",
    "%pip install flask tensorflow keras pillow numpy\n",
    "\n",
    "#Run webapp\n",
    "!python WebAppForFruitAndVegetableRecognition.py"
   ]
  }
 ],
 "metadata": {
  "language_info": {
   "name": "python"
  }
 },
 "nbformat": 4,
 "nbformat_minor": 2
}
